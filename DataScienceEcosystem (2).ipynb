{
 "cells": [
  {
   "cell_type": "markdown",
   "id": "4c3531dc-b8e6-4e75-b396-8b6805c71f83",
   "metadata": {
    "editable": true,
    "slideshow": {
     "slide_type": ""
    },
    "tags": []
   },
   "source": [
    "# Data Science Tools and Ecosystem"
   ]
  },
  {
   "cell_type": "markdown",
   "id": "5a703aaf-6368-4c69-98b9-a3788ea6409d",
   "metadata": {
    "editable": true,
    "slideshow": {
     "slide_type": ""
    },
    "tags": []
   },
   "source": [
    "In this summary notebook, several Data Science and Ecosystem tools were used."
   ]
  },
  {
   "cell_type": "markdown",
   "id": "f3caa70d-069f-48f7-929f-9f1e42d5663e",
   "metadata": {},
   "source": [
    "**Objectives:**\n",
    "- types of notebooks I can use for completing tasks with Python\n",
    "- the strength of Python for various tasks\n",
    "- basics of Python"
   ]
  },
  {
   "cell_type": "markdown",
   "id": "a1cf4ecb-2215-462b-ad1c-d5041a199c6c",
   "metadata": {},
   "source": [
    "There are some very popular programming languages:\n",
    "1. Python\n",
    "2. R\n",
    "3. JavaScript"
   ]
  },
  {
   "cell_type": "markdown",
   "id": "f81c0eaf-06f5-4a79-aa9e-1164e3198939",
   "metadata": {},
   "source": [
    "Some interesting libraries for Geospatial Data Scientists are the following:\n",
    "1. Geopandas\n",
    "2. GDAL\n",
    "3. Matplotlib"
   ]
  },
  {
   "attachments": {},
   "cell_type": "markdown",
   "id": "51cd254a-9e9c-4a01-bed1-c40178279bfb",
   "metadata": {},
   "source": [
    "| Data Science Tools |\n",
    "| --- |\n",
    "| Anaconda|\n",
    "| Jupyter Notebooks|\n",
    "| R Studio|"
   ]
  },
  {
   "cell_type": "markdown",
   "id": "d4a02c3d-70b6-4833-9105-c9067463b447",
   "metadata": {},
   "source": [
    "### Here are few arithmetic expressions using Python:"
   ]
  },
  {
   "cell_type": "code",
   "execution_count": 8,
   "id": "78036e92-68df-4642-8380-ee3bab2ecb9b",
   "metadata": {},
   "outputs": [
    {
     "name": "stdout",
     "output_type": "stream",
     "text": [
      "This a simple arithmetic expression to multiply then add integers:\n"
     ]
    },
    {
     "data": {
      "text/plain": [
       "17"
      ]
     },
     "execution_count": 8,
     "metadata": {},
     "output_type": "execute_result"
    }
   ],
   "source": [
    "print(\"This a simple arithmetic expression to multiply then add integers:\")\n",
    "\n",
    "(3*4)+5\n"
   ]
  },
  {
   "cell_type": "code",
   "execution_count": 6,
   "id": "b6027ebb-0b77-4a31-8573-b668c4108c94",
   "metadata": {},
   "outputs": [
    {
     "name": "stdout",
     "output_type": "stream",
     "text": [
      "This will convert 200 minutes to hours by diving by 60\n"
     ]
    },
    {
     "data": {
      "text/plain": [
       "3.3333333333333335"
      ]
     },
     "execution_count": 6,
     "metadata": {},
     "output_type": "execute_result"
    }
   ],
   "source": [
    "print(\"This will convert 200 minutes to hours by diving by 60\")\n",
    "\n",
    "200/60"
   ]
  },
  {
   "cell_type": "markdown",
   "id": "d3c7e2e3-50d1-4c1f-9559-0e6f7b2e1332",
   "metadata": {},
   "source": [
    "## Author\n",
    "Márton Bence Balogh"
   ]
  }
 ],
 "metadata": {
  "kernelspec": {
   "display_name": "Python 3 (ipykernel)",
   "language": "python",
   "name": "python3"
  },
  "language_info": {
   "codemirror_mode": {
    "name": "ipython",
    "version": 3
   },
   "file_extension": ".py",
   "mimetype": "text/x-python",
   "name": "python",
   "nbconvert_exporter": "python",
   "pygments_lexer": "ipython3",
   "version": "3.11.9"
  }
 },
 "nbformat": 4,
 "nbformat_minor": 5
}
